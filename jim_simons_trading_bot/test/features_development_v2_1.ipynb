{
 "cells": [
  {
   "cell_type": "code",
   "execution_count": 4,
   "id": "6202890b-d062-4ba9-9cc0-8d85dadca623",
   "metadata": {},
   "outputs": [],
   "source": [
    "import pandas as pd\n",
    "import numpy as np\n",
    "import ta\n",
    "import yfinance as yf\n",
    "import mplfinance as mpf\n",
    "import matplotlib.pyplot as plt\n",
    "import matplotlib.dates as mdates\n",
    "from matplotlib.patches import Rectangle\n",
    "from ta.trend import EMAIndicator, MACD\n",
    "from ta.momentum import RSIIndicator\n",
    "from ta.volatility import AverageTrueRange, BollingerBands"
   ]
  },
  {
   "cell_type": "markdown",
   "id": "79d9d509-02ca-4133-ae36-81bf255b7d97",
   "metadata": {},
   "source": [
    "# Base class for indicators"
   ]
  },
  {
   "cell_type": "code",
   "execution_count": 5,
   "id": "e6ccbe20-24c4-4477-aa82-3da3cffaab7a",
   "metadata": {},
   "outputs": [],
   "source": [
    "class IndicatorBase:\n",
    "    def __init__(self, df: pd.DataFrame):\n",
    "        \"\"\"\n",
    "        Initializes with a market DataFrame (must include 'Open', 'High', 'Low', 'Close', 'Volume').\n",
    "        \"\"\"\n",
    "        if not isinstance(df, pd.DataFrame):\n",
    "            raise TypeError(\"Expected a pandas DataFrame.\")\n",
    "        required_cols = {\"Open\", \"High\", \"Low\", \"Close\", \"Volume\"}\n",
    "        if not required_cols.issubset(df.columns):\n",
    "            raise ValueError(f\"DataFrame must contain columns: {required_cols}\")\n",
    "        \n",
    "        self.df = df.copy()\n",
    "\n",
    "    def compute_indicators(self):\n",
    "        \"\"\"Computes common technical indicators and appends them to the DataFrame.\"\"\"\n",
    "    \n",
    "        # EMA\n",
    "        self.df[\"50EMA\"] = EMAIndicator(close=self.df[\"Close\"], window=50).ema_indicator()\n",
    "        self.df[\"200EMA\"] = EMAIndicator(close=self.df[\"Close\"], window=200).ema_indicator()\n",
    "    \n",
    "        # RSI\n",
    "        self.df[\"RSI\"] = RSIIndicator(close=self.df[\"Close\"], window=14).rsi()\n",
    "    \n",
    "        # ATR and ATR_50\n",
    "        self.df[\"ATR\"] = AverageTrueRange(\n",
    "            high=self.df[\"High\"],\n",
    "            low=self.df[\"Low\"],\n",
    "            close=self.df[\"Close\"],\n",
    "            window=14\n",
    "        ).average_true_range()\n",
    "        self.df[\"ATR_50\"] = self.df[\"ATR\"].rolling(50).mean()\n",
    "    \n",
    "        # MACD\n",
    "        macd = MACD(close=self.df[\"Close\"], window_slow=26, window_fast=12, window_sign=9)\n",
    "        self.df[\"MACD\"] = macd.macd()\n",
    "        self.df[\"Signal\"] = macd.macd_signal()\n",
    "        self.df[\"MACD_Hist\"] = self.df[\"MACD\"] - self.df[\"Signal\"]\n",
    "    \n",
    "        # Bollinger Bands\n",
    "        bb = BollingerBands(close=self.df[\"Close\"], window=20, window_dev=2)\n",
    "        self.df[\"BB_Upper\"] = bb.bollinger_hband()\n",
    "        self.df[\"BB_Lower\"] = bb.bollinger_lband()\n",
    "    \n",
    "        # Bollinger Width (custom)\n",
    "        self.df[\"BB_Width\"] = (self.df[\"High\"].rolling(20).max() - self.df[\"Low\"].rolling(20).min()) / \\\n",
    "                              self.df[\"Close\"].rolling(20).mean()\n",
    "    \n",
    "        # OBV (manual calc)\n",
    "        self.df[\"OBV\"] = (np.sign(self.df[\"Close\"].diff()) * self.df[\"Volume\"]).fillna(0).cumsum()\n",
    "    \n",
    "        # Support & Resistance\n",
    "        self.df[\"Support\"] = self.df[\"Low\"].rolling(20).min()\n",
    "        self.df[\"Resistance\"] = self.df[\"High\"].rolling(20).max()\n",
    "    \n",
    "        self.df.dropna(inplace=True)\n",
    "        return self.df"
   ]
  },
  {
   "cell_type": "code",
   "execution_count": 6,
   "id": "d1cfc265-51b4-4e84-854c-8cc8822b2bb4",
   "metadata": {},
   "outputs": [],
   "source": [
    "# --- Example usage ---\n",
    "if __name__ == \"__main__\":\n",
    "    # Step 1: Load data\n",
    "    df = pd.read_csv(\"NIFTY50_1d_5y.csv\", parse_dates=[\"Date\"], index_col=\"Date\")\n",
    "\n",
    "    # Step 2: Compute indicators\n",
    "    indicators = IndicatorBase(df)\n",
    "    df_indicators = indicators.compute_indicators()"
   ]
  },
  {
   "cell_type": "code",
   "execution_count": 9,
   "id": "8652697a-ff89-4018-8f89-ba4864e14f65",
   "metadata": {},
   "outputs": [
    {
     "data": {
      "text/plain": [
       "85.59870702483849"
      ]
     },
     "execution_count": 9,
     "metadata": {},
     "output_type": "execute_result"
    }
   ],
   "source": [
    "df_indicators[\"RSI\"].max()"
   ]
  },
  {
   "cell_type": "markdown",
   "id": "4a973aa4-3f3a-4038-9ae6-32a67c35f238",
   "metadata": {},
   "source": [
    "# Price Action"
   ]
  },
  {
   "cell_type": "code",
   "execution_count": 10,
   "id": "1ca88013-38ad-4571-86ab-91458ec435cb",
   "metadata": {},
   "outputs": [],
   "source": [
    "class PriceActionBase:\n",
    "    def __init__(self, df: pd.DataFrame):\n",
    "        self.df = df.copy()\n",
    "\n",
    "    def compute_candlestick_patterns(self):\n",
    "        df = self.df\n",
    "\n",
    "        # Bullish Engulfing\n",
    "        df['bullish_engulfing'] = ((df['Close'].shift(1) < df['Open'].shift(1)) &\n",
    "                                   (df['Close'] > df['Open']) &\n",
    "                                   (df['Close'] > df['Open'].shift(1)) &\n",
    "                                   (df['Open'] < df['Close'].shift(1)))\n",
    "\n",
    "        # Bearish Engulfing\n",
    "        df['bearish_engulfing'] = ((df['Close'].shift(1) > df['Open'].shift(1)) &\n",
    "                                   (df['Close'] < df['Open']) &\n",
    "                                   (df['Close'] < df['Open'].shift(1)) &\n",
    "                                   (df['Open'] > df['Close'].shift(1)))\n",
    "\n",
    "        # Hammer\n",
    "        df['hammer'] = ((df['High'] - df['Low']) > 3 * abs(df['Open'] - df['Close'])) & \\\n",
    "                       ((df['Close'] - df['Low']) / (1e-6 + df['High'] - df['Low']) > 0.6) & \\\n",
    "                       ((df['Open'] - df['Low']) / (1e-6 + df['High'] - df['Low']) > 0.6)\n",
    "\n",
    "        # Doji\n",
    "        df['doji'] = (abs(df['Close'] - df['Open']) <= (0.1 * (df['High'] - df['Low'])))\n",
    "\n",
    "        # Inside Bar\n",
    "        df['inside_bar'] = ((df['High'] < df['High'].shift(1)) &\n",
    "                            (df['Low'] > df['Low'].shift(1)))\n",
    "\n",
    "        # Outside Bar (range expansion)\n",
    "        df['outside_bar'] = ((df['High'] > df['High'].shift(1)) &\n",
    "                             (df['Low'] < df['Low'].shift(1)))\n",
    "\n",
    "        # Morning Star (3-bar bullish reversal)\n",
    "        df['morning_star'] = (\n",
    "            (df['Close'].shift(2) < df['Open'].shift(2)) &\n",
    "            (abs(df['Close'].shift(1) - df['Open'].shift(1)) <= 0.3 * (df['High'].shift(1) - df['Low'].shift(1))) &\n",
    "            (df['Close'] > ((df['Open'].shift(2) + df['Close'].shift(2)) / 2))\n",
    "        )\n",
    "\n",
    "        # Evening Star (3-bar bearish reversal)\n",
    "        df['evening_star'] = (\n",
    "            (df['Close'].shift(2) > df['Open'].shift(2)) &\n",
    "            (abs(df['Close'].shift(1) - df['Open'].shift(1)) <= 0.3 * (df['High'].shift(1) - df['Low'].shift(1))) &\n",
    "            (df['Close'] < ((df['Open'].shift(2) + df['Close'].shift(2)) / 2))\n",
    "        )\n",
    "\n",
    "        # Pin Bar (long wick rejection candle)\n",
    "        df['pin_bar'] = (((df['High'] - df[[\"Open\", \"Close\"]].max(axis=1)) > \n",
    "                          2 * abs(df['Open'] - df['Close'])) |\n",
    "                         ((df[[\"Open\", \"Close\"]].min(axis=1) - df['Low']) > \n",
    "                          2 * abs(df['Open'] - df['Close'])))\n",
    "\n",
    "        self.df = df\n",
    "        return self.df\n",
    "\n",
    "    def compute_support_resistance(self, window=20):\n",
    "        df = self.df\n",
    "        df['local_support'] = df['Low'].rolling(window, center=True).min()\n",
    "        df['local_resistance'] = df['High'].rolling(window, center=True).max()\n",
    "        self.df = df\n",
    "        return self.df\n",
    "\n",
    "    def compute_context_flags(self, tolerance=0.01):\n",
    "        \"\"\"\n",
    "        Adds context flags such as near support/resistance and big candle.\n",
    "        \"\"\"\n",
    "        df = self.df\n",
    "        # Price near support/resistance\n",
    "        df['near_support'] = abs(df['Close'] - df['local_support']) / df['Close'] < tolerance\n",
    "        df['near_resistance'] = abs(df['Close'] - df['local_resistance']) / df['Close'] < tolerance\n",
    "\n",
    "        # Big candle: body size compared to rolling average range\n",
    "        body = abs(df['Close'] - df['Open'])\n",
    "        range_avg = (df['High'] - df['Low']).rolling(20).mean()\n",
    "        df['big_candle'] = body > 1.5 * range_avg\n",
    "\n",
    "        self.df = df\n",
    "        return self.df"
   ]
  },
  {
   "cell_type": "code",
   "execution_count": 11,
   "id": "b10e12cd-5c08-42f4-b36f-5564bb5cb648",
   "metadata": {},
   "outputs": [
    {
     "name": "stdout",
     "output_type": "stream",
     "text": [
      "                           bullish_engulfing  morning_star  near_support  \\\n",
      "Date                                                                       \n",
      "2025-03-03 00:00:00+05:30              False         False         False   \n",
      "2025-03-04 00:00:00+05:30              False         False         False   \n",
      "2025-03-05 00:00:00+05:30              False         False         False   \n",
      "2025-03-06 00:00:00+05:30              False         False         False   \n",
      "2025-03-07 00:00:00+05:30              False         False         False   \n",
      "\n",
      "                           big_candle  \n",
      "Date                                   \n",
      "2025-03-03 00:00:00+05:30       False  \n",
      "2025-03-04 00:00:00+05:30       False  \n",
      "2025-03-05 00:00:00+05:30       False  \n",
      "2025-03-06 00:00:00+05:30       False  \n",
      "2025-03-07 00:00:00+05:30       False  \n"
     ]
    }
   ],
   "source": [
    "pa = PriceActionBase(df_indicators)\n",
    "\n",
    "df_indicators_and_price_action = pa.compute_candlestick_patterns()\n",
    "df_indicators_and_price_action = pa.compute_support_resistance(window=20)\n",
    "df_indicators_and_price_action = pa.compute_context_flags(tolerance=0.015)\n",
    "\n",
    "print(df_indicators_and_price_action.tail()[['bullish_engulfing', 'morning_star', 'near_support', 'big_candle']])"
   ]
  },
  {
   "cell_type": "markdown",
   "id": "90a051f5-92aa-46d5-8ede-ab1d8fa67fd6",
   "metadata": {},
   "source": [
    "# Visualization"
   ]
  },
  {
   "cell_type": "code",
   "execution_count": 12,
   "id": "556197d7-b581-4a3b-b2b9-6a194e401632",
   "metadata": {},
   "outputs": [],
   "source": [
    "def plot_candlestick_with_indicators(df, title=\"Candlestick with Indicators\", window=100, save_path=None):\n",
    "    df_plot = df.tail(window).copy()\n",
    "    ohlc = df_plot[[\"Open\", \"High\", \"Low\", \"Close\", \"Volume\"]].copy()\n",
    "    apds = []\n",
    "\n",
    "    panel_counter = 0  # panel 0 = price\n",
    "    panel_ratios = [2]  # price panel\n",
    "\n",
    "    # Volume is automatically assigned panel 1 when volume=True\n",
    "    panel_counter += 1\n",
    "    panel_ratios.append(0.5)  # smaller height for volume\n",
    "\n",
    "    # Track additional panel numbers\n",
    "    rsi_panel = None\n",
    "    macd_panel = None\n",
    "\n",
    "    # Add moving averages\n",
    "    if \"50EMA\" in df_plot.columns:\n",
    "        apds.append(mpf.make_addplot(df_plot[\"50EMA\"], panel=0, color=\"blue\", width=1.0))\n",
    "    if \"200EMA\" in df_plot.columns:\n",
    "        apds.append(mpf.make_addplot(df_plot[\"200EMA\"], panel=0, color=\"purple\", width=1.0))\n",
    "\n",
    "    # Bollinger Bands\n",
    "    if \"BB_Upper\" in df_plot.columns and \"BB_Lower\" in df_plot.columns:\n",
    "        apds.append(mpf.make_addplot(df_plot[\"BB_Upper\"], panel=0, color=\"grey\", linestyle=\"--\"))\n",
    "        apds.append(mpf.make_addplot(df_plot[\"BB_Lower\"], panel=0, color=\"grey\", linestyle=\"--\"))\n",
    "\n",
    "    # RSI (optional panel)\n",
    "    if \"RSI\" in df_plot.columns:\n",
    "        panel_counter += 1\n",
    "        rsi_panel = panel_counter\n",
    "        apds.append(mpf.make_addplot(df_plot[\"RSI\"], panel=rsi_panel, color='orange', ylabel='RSI'))\n",
    "        panel_ratios.append(1)\n",
    "\n",
    "    # MACD (optional panel)\n",
    "    if \"MACD\" in df_plot.columns and \"Signal\" in df_plot.columns:\n",
    "        panel_counter += 1\n",
    "        macd_panel = panel_counter\n",
    "        apds.append(mpf.make_addplot(df_plot[\"MACD\"], panel=macd_panel, color='green', ylabel='MACD'))\n",
    "        apds.append(mpf.make_addplot(df_plot[\"Signal\"], panel=macd_panel, color='red'))\n",
    "        if \"MACD_Hist\" in df_plot.columns:\n",
    "            apds.append(mpf.make_addplot(df_plot[\"MACD_Hist\"], panel=macd_panel, type='bar', color='gray', alpha=0.5))\n",
    "        panel_ratios.append(1)\n",
    "\n",
    "    # Plot config\n",
    "    plot_kwargs = dict(\n",
    "        type='candle',\n",
    "        style='charles',\n",
    "        title=title,\n",
    "        ylabel='Price',\n",
    "        ylabel_lower='Volume',\n",
    "        volume=True,\n",
    "        addplot=apds,\n",
    "        figscale=1.2,\n",
    "        figratio=(14, 9),\n",
    "        panel_ratios=panel_ratios\n",
    "    )\n",
    "\n",
    "    if save_path:\n",
    "        plot_kwargs[\"savefig\"] = save_path\n",
    "\n",
    "    mpf.plot(ohlc, **plot_kwargs)\n",
    "\n",
    "    if save_path:\n",
    "        print(f\"Plot saved to {save_path}\")\n"
   ]
  },
  {
   "cell_type": "code",
   "execution_count": 13,
   "id": "94596352-ae9b-420f-b7c8-4adfe713f3e9",
   "metadata": {},
   "outputs": [
    {
     "name": "stdout",
     "output_type": "stream",
     "text": [
      "Plot saved to candlestick_price_action_withi_indicators.png\n"
     ]
    }
   ],
   "source": [
    "plot_candlestick_with_indicators(df_indicators_and_price_action, save_path=\"candlestick_price_action_withi_indicators.png\")"
   ]
  },
  {
   "cell_type": "code",
   "execution_count": 15,
   "id": "df718251-2aba-4a6d-a334-420032e94d05",
   "metadata": {},
   "outputs": [],
   "source": []
  },
  {
   "cell_type": "code",
   "execution_count": null,
   "id": "9f76ce89-1696-40a1-901a-1b7122e68f29",
   "metadata": {},
   "outputs": [],
   "source": []
  },
  {
   "cell_type": "code",
   "execution_count": 14,
   "id": "adb19a50-37a7-48f6-b391-d892fbc28db4",
   "metadata": {},
   "outputs": [
    {
     "data": {
      "text/plain": [
       "Index(['Open', 'High', 'Low', 'Close', 'Volume', 'Dividends', 'Stock Splits',\n",
       "       '50EMA', '200EMA', 'RSI', 'ATR', 'ATR_50', 'MACD', 'Signal',\n",
       "       'MACD_Hist', 'BB_Upper', 'BB_Lower', 'BB_Width', 'OBV', 'Support',\n",
       "       'Resistance', 'bullish_engulfing', 'bearish_engulfing', 'hammer',\n",
       "       'doji', 'inside_bar', 'outside_bar', 'morning_star', 'evening_star',\n",
       "       'pin_bar', 'local_support', 'local_resistance', 'near_support',\n",
       "       'near_resistance', 'big_candle'],\n",
       "      dtype='object')"
      ]
     },
     "execution_count": 14,
     "metadata": {},
     "output_type": "execute_result"
    }
   ],
   "source": [
    "df_indicators_and_price_action.columns"
   ]
  },
  {
   "cell_type": "code",
   "execution_count": null,
   "id": "4008d622-7737-453b-9632-bb30d55755ad",
   "metadata": {},
   "outputs": [],
   "source": []
  }
 ],
 "metadata": {
  "kernelspec": {
   "display_name": "Python 3 (ipykernel)",
   "language": "python",
   "name": "python3"
  },
  "language_info": {
   "codemirror_mode": {
    "name": "ipython",
    "version": 3
   },
   "file_extension": ".py",
   "mimetype": "text/x-python",
   "name": "python",
   "nbconvert_exporter": "python",
   "pygments_lexer": "ipython3",
   "version": "3.12.7"
  }
 },
 "nbformat": 4,
 "nbformat_minor": 5
}
